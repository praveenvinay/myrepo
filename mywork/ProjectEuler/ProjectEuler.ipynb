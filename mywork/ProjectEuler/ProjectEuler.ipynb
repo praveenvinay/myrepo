{
 "metadata": {
  "name": "",
  "signature": "sha256:a42765095f457d52e2170914302777d23fb40655d37f1cb01e44f487ede44922"
 },
 "nbformat": 3,
 "nbformat_minor": 0,
 "worksheets": [
  {
   "cells": [
    {
     "cell_type": "heading",
     "level": 1,
     "metadata": {},
     "source": [
      "Problem 1:"
     ]
    },
    {
     "cell_type": "code",
     "collapsed": false,
     "input": [
      "list1 = []\n",
      "for num in range(1,1000):\n",
      "    if ((num % 3 == 0) or (num % 5 == 0)):\n",
      "        list1.append(num)\n",
      "        num += num\n",
      "sum(list1)\n",
      "        \n",
      "        \n",
      "        "
     ],
     "language": "python",
     "metadata": {},
     "outputs": [
      {
       "metadata": {},
       "output_type": "pyout",
       "prompt_number": 53,
       "text": [
        "233168"
       ]
      }
     ],
     "prompt_number": 53
    },
    {
     "cell_type": "heading",
     "level": 1,
     "metadata": {},
     "source": [
      "Problem 2:"
     ]
    },
    {
     "cell_type": "code",
     "collapsed": false,
     "input": [
      "    list1 = []\n",
      "    a, b = 0, 1\n",
      "    for num in range(50):  \n",
      "        a, b = b, a + b\n",
      "        if a < 4000000:\n",
      "            if a % 2 == 0:\n",
      "                list1.append(a)\n",
      "        else:\n",
      "            break\n",
      "    print sum(list1)"
     ],
     "language": "python",
     "metadata": {},
     "outputs": [
      {
       "output_type": "stream",
       "stream": "stdout",
       "text": [
        "4613732\n"
       ]
      }
     ],
     "prompt_number": 85
    },
    {
     "cell_type": "heading",
     "level": 1,
     "metadata": {},
     "source": [
      "Problem 3:"
     ]
    },
    {
     "cell_type": "code",
     "collapsed": false,
     "input": [
      "num = 600851475143\n",
      "f = 2\n",
      "while f * f <= num:\n",
      "    if num % f == 0:\n",
      "        num = num // f\n",
      "    else:\n",
      "        f = f + 1        \n",
      "print num   "
     ],
     "language": "python",
     "metadata": {},
     "outputs": [
      {
       "output_type": "stream",
       "stream": "stdout",
       "text": [
        "6857\n"
       ]
      }
     ],
     "prompt_number": 38
    },
    {
     "cell_type": "heading",
     "level": 1,
     "metadata": {},
     "source": [
      "Problem 4:"
     ]
    },
    {
     "cell_type": "code",
     "collapsed": false,
     "input": [
      "i = 4\n",
      "j = 4\n",
      "\n",
      "while i and j <= 9:\n",
      "    k = i * j\n",
      "    list1 = [int(x) for x in str(k)]\n",
      "    list2 = list1[::-1]\n",
      "    if cmp(list1, list2) == 0:\n",
      "        print list1   \n",
      "    else:\n",
      "        if i <= 9:\n",
      "            i = i + 1\n",
      "        else:\n",
      "            j = j + 1\n",
      "        \n",
      "        \n",
      "    "
     ],
     "language": "python",
     "metadata": {},
     "outputs": [],
     "prompt_number": 66
    },
    {
     "cell_type": "code",
     "collapsed": false,
     "input": [
      "i = 100\n",
      "j = 100\n",
      "\n",
      "while i and j <= 999:\n",
      "    k = i * j\n",
      "    list1 = [int(x) for x in str(k)]\n",
      "    list2 = list1[::-1]\n",
      "    if cmp(list1, list2) == 0:\n",
      "        print list1\n",
      "        break\n",
      "    else:\n",
      "        if i <= 999:\n",
      "            i = i + 1\n",
      "        else:\n",
      "            j = j + 1"
     ],
     "language": "python",
     "metadata": {},
     "outputs": [],
     "prompt_number": 72
    },
    {
     "cell_type": "code",
     "collapsed": false,
     "input": [
      "a = 95\n",
      "\n",
      "i = 95\n",
      "j = 90\n",
      "\n",
      "while i and j <= 99:\n",
      "    if i < 99:\n",
      "        k = i * j\n",
      "        i = i + 1\n",
      "    else:\n",
      "        if j < 99:\n",
      "            i = a\n",
      "            k = i * j\n",
      "            j = j + 1\n",
      "    list1 = [int(x) for x in str(k)]\n",
      "    list2 = list1[::-1]\n",
      "    if cmp(list1, list2) == 0:\n",
      "        print list1"
     ],
     "language": "python",
     "metadata": {},
     "outputs": [
      {
       "ename": "KeyboardInterrupt",
       "evalue": "",
       "output_type": "pyerr",
       "traceback": [
        "\u001b[1;31m---------------------------------------------------------------------------\u001b[0m\n\u001b[1;31mKeyboardInterrupt\u001b[0m                         Traceback (most recent call last)",
        "\u001b[1;32m<ipython-input-75-03cfbaf339b0>\u001b[0m in \u001b[0;36m<module>\u001b[1;34m()\u001b[0m\n\u001b[0;32m      9\u001b[0m         \u001b[0mi\u001b[0m \u001b[1;33m=\u001b[0m \u001b[0mi\u001b[0m \u001b[1;33m+\u001b[0m \u001b[1;36m1\u001b[0m\u001b[1;33m\u001b[0m\u001b[0m\n\u001b[0;32m     10\u001b[0m     \u001b[1;32melse\u001b[0m\u001b[1;33m:\u001b[0m\u001b[1;33m\u001b[0m\u001b[0m\n\u001b[1;32m---> 11\u001b[1;33m         \u001b[1;32mif\u001b[0m \u001b[0mj\u001b[0m \u001b[1;33m<\u001b[0m \u001b[1;36m99\u001b[0m\u001b[1;33m:\u001b[0m\u001b[1;33m\u001b[0m\u001b[0m\n\u001b[0m\u001b[0;32m     12\u001b[0m             \u001b[0mi\u001b[0m \u001b[1;33m=\u001b[0m \u001b[0ma\u001b[0m\u001b[1;33m\u001b[0m\u001b[0m\n\u001b[0;32m     13\u001b[0m             \u001b[0mk\u001b[0m \u001b[1;33m=\u001b[0m \u001b[0mi\u001b[0m \u001b[1;33m*\u001b[0m \u001b[0mj\u001b[0m\u001b[1;33m\u001b[0m\u001b[0m\n",
        "\u001b[1;31mKeyboardInterrupt\u001b[0m: "
       ]
      }
     ],
     "prompt_number": 75
    },
    {
     "cell_type": "code",
     "collapsed": false,
     "input": [
      "a = 98\n",
      "b = 98\n",
      "\n",
      "i = 98\n",
      "j = 98\n",
      "\n",
      "if i or j == 99:\n",
      "    while i and j < 99:\n",
      "    if i < 99:\n",
      "        k = i * j\n",
      "        i = i + 1\n",
      "    else:\n",
      "        if j < 99:\n",
      "            i = a\n",
      "            k = i * j\n",
      "            j = j + 1\n",
      "    list1 = [int(x) for x in str(k)]\n",
      "    list2 = list1[::-1]\n",
      "    if cmp(list1, list2) == 0:\n",
      "        print list1\n",
      "        \n",
      "  \n",
      " \n",
      " \n",
      " \n",
      " #           k = i * j\n",
      " #           list1 = [int(l) for l in str(k)]\n",
      " #           list2 = list1[::-1]\n",
      " #           if cmp(list1, list2) == 0:\n",
      " #               print list1\n",
      " #               j += j"
     ],
     "language": "python",
     "metadata": {},
     "outputs": [],
     "prompt_number": 70
    },
    {
     "cell_type": "code",
     "collapsed": false,
     "input": [
      "a = 98\n",
      "b = 98\n",
      "\n",
      "i = 98\n",
      "j = 98\n",
      "\n",
      "if i or j == 99:\n",
      "    while i and j < 99:\n",
      "        if i < 99:\n",
      "            k = i * j\n",
      "            i = i + 1\n",
      "        else:\n",
      "            if j < 99:\n",
      "                i = a\n",
      "                k = i * j\n",
      "                j = j + 1\n",
      "        list1 = [int(x) for x in str(k)]\n",
      "        list2 = list1[::-1]\n",
      "        if cmp(list1, list2) == 0:\n",
      "            print list1\n",
      "        \n",
      "  \n",
      " \n",
      " \n",
      " \n",
      " #           k = i * j\n",
      " #           list1 = [int(l) for l in str(k)]\n",
      " #           list2 = list1[::-1]\n",
      " #           if cmp(list1, list2) == 0:\n",
      " #               print list1\n",
      " #               j += j"
     ],
     "language": "python",
     "metadata": {},
     "outputs": []
    }
   ],
   "metadata": {}
  }
 ]
}