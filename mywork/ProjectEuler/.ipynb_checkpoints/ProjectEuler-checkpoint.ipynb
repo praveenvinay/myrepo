{
 "cells": [
  {
   "cell_type": "markdown",
   "metadata": {},
   "source": [
    "# Problem 1:"
   ]
  },
  {
   "cell_type": "code",
   "execution_count": 53,
   "metadata": {
    "collapsed": false
   },
   "outputs": [
    {
     "data": {
      "text/plain": [
       "233168"
      ]
     },
     "execution_count": 53,
     "metadata": {},
     "output_type": "execute_result"
    }
   ],
   "source": [
    "list1 = []\n",
    "for num in range(1,1000):\n",
    "    if ((num % 3 == 0) or (num % 5 == 0)):\n",
    "        list1.append(num)\n",
    "        num += num\n",
    "sum(list1)\n",
    "        \n",
    "        \n",
    "        "
   ]
  },
  {
   "cell_type": "markdown",
   "metadata": {},
   "source": [
    "# Problem 2:"
   ]
  },
  {
   "cell_type": "code",
   "execution_count": 85,
   "metadata": {
    "collapsed": false
   },
   "outputs": [
    {
     "name": "stdout",
     "output_type": "stream",
     "text": [
      "4613732\n"
     ]
    }
   ],
   "source": [
    "    list1 = []\n",
    "    a, b = 0, 1\n",
    "    for num in range(50):  \n",
    "        a, b = b, a + b\n",
    "        if a < 4000000:\n",
    "            if a % 2 == 0:\n",
    "                list1.append(a)\n",
    "        else:\n",
    "            break\n",
    "    print sum(list1)"
   ]
  },
  {
   "cell_type": "markdown",
   "metadata": {},
   "source": [
    "# Problem 3:"
   ]
  },
  {
   "cell_type": "code",
   "execution_count": 38,
   "metadata": {
    "collapsed": false
   },
   "outputs": [
    {
     "name": "stdout",
     "output_type": "stream",
     "text": [
      "6857\n"
     ]
    }
   ],
   "source": [
    "num = 600851475143\n",
    "f = 2\n",
    "while f * f <= num:\n",
    "    if num % f == 0:\n",
    "        num = num // f\n",
    "    else:\n",
    "        f = f + 1        \n",
    "print num   "
   ]
  },
  {
   "cell_type": "markdown",
   "metadata": {},
   "source": [
    "# Problem 4:"
   ]
  },
  {
   "cell_type": "code",
   "execution_count": 66,
   "metadata": {
    "collapsed": false
   },
   "outputs": [],
   "source": [
    "i = 4\n",
    "j = 4\n",
    "\n",
    "while i and j <= 9:\n",
    "    k = i * j\n",
    "    list1 = [int(x) for x in str(k)]\n",
    "    list2 = list1[::-1]\n",
    "    if cmp(list1, list2) == 0:\n",
    "        print list1   \n",
    "    else:\n",
    "        if i <= 9:\n",
    "            i = i + 1\n",
    "        else:\n",
    "            j = j + 1\n",
    "        \n",
    "        \n",
    "    "
   ]
  },
  {
   "cell_type": "code",
   "execution_count": 72,
   "metadata": {
    "collapsed": false
   },
   "outputs": [],
   "source": [
    "i = 100\n",
    "j = 100\n",
    "\n",
    "while i and j <= 999:\n",
    "    k = i * j\n",
    "    list1 = [int(x) for x in str(k)]\n",
    "    list2 = list1[::-1]\n",
    "    if cmp(list1, list2) == 0:\n",
    "        print list1\n",
    "        break\n",
    "    else:\n",
    "        if i <= 999:\n",
    "            i = i + 1\n",
    "        else:\n",
    "            j = j + 1"
   ]
  },
  {
   "cell_type": "code",
   "execution_count": null,
   "metadata": {
    "collapsed": false
   },
   "outputs": [],
   "source": []
  },
  {
   "cell_type": "code",
   "execution_count": 70,
   "metadata": {
    "collapsed": false
   },
   "outputs": [],
   "source": [
    "a = 98\n",
    "b = 98\n",
    "\n",
    "i = 98\n",
    "j = 98\n",
    "\n",
    "if i or j == 99:\n",
    "    while i and j < 99:\n",
    "    if i < 99:\n",
    "        k = i * j\n",
    "        i = i + 1\n",
    "    else:\n",
    "        if j < 99:\n",
    "            i = a\n",
    "            k = i * j\n",
    "            j = j + 1\n",
    "    list1 = [int(x) for x in str(k)]\n",
    "    list2 = list1[::-1]\n",
    "    if cmp(list1, list2) == 0:\n",
    "        print list1\n",
    "        \n",
    "  \n",
    " \n",
    " \n",
    " \n",
    " #           k = i * j\n",
    " #           list1 = [int(l) for l in str(k)]\n",
    " #           list2 = list1[::-1]\n",
    " #           if cmp(list1, list2) == 0:\n",
    " #               print list1\n",
    " #               j += j"
   ]
  },
  {
   "cell_type": "code",
   "execution_count": null,
   "metadata": {
    "collapsed": false
   },
   "outputs": [],
   "source": [
    "a = 98\n",
    "b = 98\n",
    "\n",
    "i = 98\n",
    "j = 98\n",
    "\n",
    "if i or j == 99:\n",
    "    while i and j < 99:\n",
    "        if i < 99:\n",
    "            k = i * j\n",
    "            i = i + 1\n",
    "        else:\n",
    "            if j < 99:\n",
    "                i = a\n",
    "                k = i * j\n",
    "                j = j + 1\n",
    "        list1 = [int(x) for x in str(k)]\n",
    "        list2 = list1[::-1]\n",
    "        if cmp(list1, list2) == 0:\n",
    "            print list1\n",
    "        \n",
    "  \n",
    " \n",
    " \n",
    " \n",
    " #           k = i * j\n",
    " #           list1 = [int(l) for l in str(k)]\n",
    " #           list2 = list1[::-1]\n",
    " #           if cmp(list1, list2) == 0:\n",
    " #               print list1\n",
    " #               j += j"
   ]
  },
  {
   "cell_type": "code",
   "execution_count": 2,
   "metadata": {
    "collapsed": false
   },
   "outputs": [
    {
     "name": "stdout",
     "output_type": "stream",
     "text": [
      "906609\n"
     ]
    }
   ],
   "source": [
    "def isPalindrome(num):\n",
    "    return str(num) == str(num)[::-1]\n",
    "def largest(bot, top):\n",
    "    z = 0\n",
    "    for x in range(top, bot, -1):\n",
    "        for y in range(top,bot, -1):\n",
    "            if isPalindrome(x*y):\n",
    "                if x*y > z:\n",
    "                    z = x*y\n",
    "    return z\n",
    "print largest(100,999)"
   ]
  },
  {
   "cell_type": "code",
   "execution_count": null,
   "metadata": {
    "collapsed": true
   },
   "outputs": [],
   "source": []
  }
 ],
 "metadata": {
  "kernelspec": {
   "display_name": "Python 2",
   "language": "python",
   "name": "python2"
  },
  "language_info": {
   "codemirror_mode": {
    "name": "ipython",
    "version": 2
   },
   "file_extension": ".py",
   "mimetype": "text/x-python",
   "name": "python",
   "nbconvert_exporter": "python",
   "pygments_lexer": "ipython2",
   "version": "2.7.9"
  }
 },
 "nbformat": 4,
 "nbformat_minor": 0
}
